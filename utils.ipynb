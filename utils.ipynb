{
 "cells": [
  {
   "cell_type": "markdown",
   "metadata": {},
   "source": [
    "# Imports"
   ]
  },
  {
   "cell_type": "code",
   "execution_count": 11,
   "metadata": {},
   "outputs": [
    {
     "name": "stdout",
     "output_type": "stream",
     "text": [
      "The autoreload extension is already loaded. To reload it, use:\n",
      "  %reload_ext autoreload\n"
     ]
    }
   ],
   "source": [
    "import numpy as np\n",
    "import yfinance as yf\n",
    "import matplotlib.pyplot as plt\n",
    "import sys\n",
    "\n",
    "from src.SAX import meSAX\n",
    "from src.metrics import rmsre\n",
    "\n",
    "%load_ext autoreload\n",
    "%autoreload 2"
   ]
  },
  {
   "cell_type": "markdown",
   "metadata": {},
   "source": [
    "# Load data"
   ]
  },
  {
   "cell_type": "code",
   "execution_count": 12,
   "metadata": {},
   "outputs": [
    {
     "name": "stderr",
     "output_type": "stream",
     "text": [
      "[*********************100%***********************]  1 of 1 completed\n"
     ]
    },
    {
     "data": {
      "text/plain": [
       "array([ 6.44741249,  6.45855856,  6.35582829, ..., 63.43809509,\n",
       "       64.3687973 , 65.61215973])"
      ]
     },
     "execution_count": 12,
     "metadata": {},
     "output_type": "execute_result"
    }
   ],
   "source": [
    "df = yf.download('AAPL', start='2010-01-01', end='2020-01-01')\n",
    "df = df['Close'][:2500].values.squeeze()\n",
    "df"
   ]
  },
  {
   "cell_type": "markdown",
   "metadata": {},
   "source": [
    "# meSAX experiments"
   ]
  },
  {
   "cell_type": "code",
   "execution_count": 18,
   "metadata": {},
   "outputs": [
    {
     "name": "stdout",
     "output_type": "stream",
     "text": [
      "K=5\n"
     ]
    },
    {
     "name": "stderr",
     "output_type": "stream",
     "text": [
      "0it [00:00, ?it/s]"
     ]
    },
    {
     "name": "stderr",
     "output_type": "stream",
     "text": [
      "12it [00:25,  2.09s/it]\n"
     ]
    },
    {
     "ename": "KeyboardInterrupt",
     "evalue": "",
     "output_type": "error",
     "traceback": [
      "\u001b[0;31m---------------------------------------------------------------------------\u001b[0m",
      "\u001b[0;31mKeyboardInterrupt\u001b[0m                         Traceback (most recent call last)",
      "Cell \u001b[0;32mIn[18], line 15\u001b[0m\n\u001b[1;32m     11\u001b[0m         compressions\u001b[38;5;241m.\u001b[39mappend(sys\u001b[38;5;241m.\u001b[39mgetsizeof(sax\u001b[38;5;241m.\u001b[39msymbol))\n\u001b[1;32m     13\u001b[0m     \u001b[38;5;28;01mreturn\u001b[39;00m errors, compressions\n\u001b[0;32m---> 15\u001b[0m errors, compressions \u001b[38;5;241m=\u001b[39m \u001b[38;5;28meval\u001b[39m(df, \u001b[38;5;28mrange\u001b[39m(\u001b[38;5;241m5\u001b[39m, \u001b[38;5;241m30\u001b[39m))\n\u001b[1;32m     16\u001b[0m plt\u001b[38;5;241m.\u001b[39mscatter(\u001b[38;5;28mrange\u001b[39m(\u001b[38;5;241m5\u001b[39m, \u001b[38;5;241m30\u001b[39m), errors)\n",
      "Cell \u001b[0;32mIn[18], line 8\u001b[0m, in \u001b[0;36meval\u001b[0;34m(data, range_K)\u001b[0m\n\u001b[1;32m      6\u001b[0m sax \u001b[38;5;241m=\u001b[39m meSAX(K\u001b[38;5;241m=\u001b[39mK, windows_size\u001b[38;5;241m=\u001b[39m\u001b[38;5;241m100\u001b[39m, step_size\u001b[38;5;241m=\u001b[39m\u001b[38;5;241m20\u001b[39m)\n\u001b[1;32m      7\u001b[0m sax\u001b[38;5;241m.\u001b[39msynthesize(data)\n\u001b[0;32m----> 8\u001b[0m reconstructed_data \u001b[38;5;241m=\u001b[39m sax\u001b[38;5;241m.\u001b[39mreconstruct()\n\u001b[1;32m     10\u001b[0m errors\u001b[38;5;241m.\u001b[39mappend(rmsre(data[:\u001b[38;5;28mlen\u001b[39m(reconstructed_data)], reconstructed_data))\n\u001b[1;32m     11\u001b[0m compressions\u001b[38;5;241m.\u001b[39mappend(sys\u001b[38;5;241m.\u001b[39mgetsizeof(sax\u001b[38;5;241m.\u001b[39msymbol))\n",
      "File \u001b[0;32m~/Desktop/MVA/Machine Learning for Time Series/TimeSeriesProject/src/SAX/mesax.py:80\u001b[0m, in \u001b[0;36mreconstruct\u001b[0;34m(self)\u001b[0m\n\u001b[1;32m      0\u001b[0m <Error retrieving source code with stack_data see ipython/ipython#13598>\n",
      "\u001b[0;31mKeyboardInterrupt\u001b[0m: "
     ]
    }
   ],
   "source": [
    "def eval(data, range_K):\n",
    "    errors = []\n",
    "    compressions = []\n",
    "    for K in range_K:\n",
    "        print(f\"K={K}\")\n",
    "        sax = meSAX(K=K, windows_size=100, step_size=20)\n",
    "        sax.synthesize(data)\n",
    "        reconstructed_data = sax.reconstruct()\n",
    "\n",
    "        errors.append(rmsre(data[:len(reconstructed_data)], reconstructed_data))\n",
    "        compressions.append(sys.getsizeof(sax.symbol))\n",
    "\n",
    "    return errors, compressions\n",
    "\n",
    "errors, compressions = eval(df, range(5, 30))\n",
    "plt.scatter(range(5, 30), errors)"
   ]
  },
  {
   "cell_type": "code",
   "execution_count": null,
   "metadata": {},
   "outputs": [],
   "source": []
  }
 ],
 "metadata": {
  "kernelspec": {
   "display_name": "tutorial-mva-1",
   "language": "python",
   "name": "python3"
  },
  "language_info": {
   "codemirror_mode": {
    "name": "ipython",
    "version": 3
   },
   "file_extension": ".py",
   "mimetype": "text/x-python",
   "name": "python",
   "nbconvert_exporter": "python",
   "pygments_lexer": "ipython3",
   "version": "3.12.2"
  }
 },
 "nbformat": 4,
 "nbformat_minor": 2
}
