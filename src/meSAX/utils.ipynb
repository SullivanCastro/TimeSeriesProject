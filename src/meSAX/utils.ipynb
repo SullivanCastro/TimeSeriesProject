{
 "cells": [
  {
   "cell_type": "markdown",
   "metadata": {},
   "source": [
    "# Imports"
   ]
  },
  {
   "cell_type": "code",
   "execution_count": 2,
   "metadata": {},
   "outputs": [],
   "source": [
    "import numpy as np\n",
    "import yfinance as yf\n",
    "import matplotlib.pyplot as plt\n",
    "\n",
    "from utils import *\n",
    "from meSAX import meSAX"
   ]
  },
  {
   "cell_type": "markdown",
   "metadata": {},
   "source": [
    "# Load data"
   ]
  },
  {
   "cell_type": "code",
   "execution_count": 3,
   "metadata": {},
   "outputs": [
    {
     "name": "stderr",
     "output_type": "stream",
     "text": [
      "[*********************100%***********************]  1 of 1 completed\n"
     ]
    },
    {
     "data": {
      "text/plain": [
       "array([ 6.44741058,  6.45855999,  6.35582829, ..., 63.43808746,\n",
       "       64.3687973 , 65.6121521 ])"
      ]
     },
     "execution_count": 3,
     "metadata": {},
     "output_type": "execute_result"
    }
   ],
   "source": [
    "df = yf.download('AAPL', start='2010-01-01', end='2020-01-01')\n",
    "df = df['Close'][:2500].values.squeeze()\n",
    "df"
   ]
  },
  {
   "cell_type": "code",
   "execution_count": 4,
   "metadata": {},
   "outputs": [
    {
     "data": {
      "text/plain": [
       "(2500,)"
      ]
     },
     "execution_count": 4,
     "metadata": {},
     "output_type": "execute_result"
    }
   ],
   "source": [
    "df.shape"
   ]
  },
  {
   "cell_type": "markdown",
   "metadata": {},
   "source": [
    "# Sax method"
   ]
  },
  {
   "cell_type": "code",
   "execution_count": 5,
   "metadata": {},
   "outputs": [
    {
     "data": {
      "text/plain": [
       "array([[      0,   18219,   41599],\n",
       "       [      0,   23876,   43309],\n",
       "       [   9125,   29667,   43309],\n",
       "       [  22679,   33084,   43309],\n",
       "       [  23133,   33959,   48146],\n",
       "       [  25283,   38209,   66506],\n",
       "       [  25283,   43497,   66833],\n",
       "       [  25283,   49800,   68444],\n",
       "       [  25283,   57402,   80456],\n",
       "       [  45723,   66528,   87712],\n",
       "       [  57265,   72881,   90336],\n",
       "       [  57265,   76211,   90336],\n",
       "       [  67752,   79204,   90336],\n",
       "       [  71110,   80393,   90336],\n",
       "       [  90336,   79071,   65091],\n",
       "       [  65091,   81827,  111605],\n",
       "       [  65091,   85220,  111605],\n",
       "       [  65091,   90518,  116906],\n",
       "       [  65091,   96410,  121548],\n",
       "       [  85098,  102410,  121548],\n",
       "       [  85098,  103388,  121548],\n",
       "       [  90568,  108152,  134442],\n",
       "       [  90568,  117475,  171262],\n",
       "       [  90568,  134759,  218557],\n",
       "       [  95653,  158355,  234541],\n",
       "       [ 111198,  177628,  234541],\n",
       "       [ 133370,  193568,  234541],\n",
       "       [ 174440,  205335,  234541],\n",
       "       [ 234541,  210574,  178511],\n",
       "       [ 178511,  216427,  259428],\n",
       "       [ 192689,  227649,  270914],\n",
       "       [ 270914,  231543,  185062],\n",
       "       [ 270914,  228495,  178600],\n",
       "       [ 270914,  220199,  170061],\n",
       "       [ 270914,  200664,  132925],\n",
       "       [ 243174,  177235,  123665],\n",
       "       [ 212646,  160442,  123665],\n",
       "       [ 191071,  146235,  107848],\n",
       "       [ 177476,  138337,  107848],\n",
       "       [ 155750,  132967,  107848],\n",
       "       [ 107848,  131365,  147129],\n",
       "       [ 107848,  136540,  174261],\n",
       "       [ 110986,  143443,  174261],\n",
       "       [ 110986,  149342,  187383],\n",
       "       [ 122458,  160672,  187383],\n",
       "       [ 142977,  174581,  208724],\n",
       "       [ 142977,  182155,  209919],\n",
       "       [ 157435,  187529,  209919],\n",
       "       [ 209919,  191615,  171523],\n",
       "       [ 209919,  193150,  171523],\n",
       "       [ 171523,  196723,  228742],\n",
       "       [ 171523,  206584,  263064],\n",
       "       [ 182809,  221049,  271571],\n",
       "       [ 183144,  237153,  281510],\n",
       "       [ 186875,  256533,  300048],\n",
       "       [ 232591,  270812,  300048],\n",
       "       [ 247712,  281234,  323754],\n",
       "       [ 258578,  298402,  363068],\n",
       "       [ 272688,  311140,  363068],\n",
       "       [ 272688,  320598,  363068],\n",
       "       [ 272688,  341613,  419761],\n",
       "       [ 312288,  359543,  419761],\n",
       "       [ 312288,  370170,  419761],\n",
       "       [ 312288,  384477,  420128],\n",
       "       [ 364627,  398064,  420128],\n",
       "       [ 420128,  397882,  371060],\n",
       "       [ 420128,  391093,  306199],\n",
       "       [ 420128,  379965,  306199],\n",
       "       [ 418279,  366951,  306199],\n",
       "       [ 418279,  359395,  306199],\n",
       "       [ 384084,  352825,  306199],\n",
       "       [ 383080,  343448,  281466],\n",
       "       [ 383080,  331153,  269438],\n",
       "       [ 383080,  322294,  269438],\n",
       "       [ 372173,  315420,  269438],\n",
       "       [ 269438,  302818,  346006],\n",
       "       [ 346006,  298469,  261353],\n",
       "       [ 346006,  298883,  261353],\n",
       "       [ 346006,  300737,  261353],\n",
       "       [ 346006,  301611,  261353],\n",
       "       [ 261353,  311601,  365178],\n",
       "       [ 268179,  327372,  375998],\n",
       "       [ 286771,  339840,  375998],\n",
       "       [ 314955,  351092,  375998],\n",
       "       [ 314955,  360462,  393464],\n",
       "       [ 327562,  378273,  457395],\n",
       "       [ 327562,  398657,  475124],\n",
       "       [ 341359,  425848,  488614],\n",
       "       [ 368588,  456391,  537416],\n",
       "       [ 391029,  482730,  537416],\n",
       "       [ 456906,  494694,  537416],\n",
       "       [ 471945,  508160,  562521],\n",
       "       [ 480818,  523652,  572587],\n",
       "       [ 480818,  527900,  572587],\n",
       "       [ 482701,  540612,  622670],\n",
       "       [ 507255,  562312,  622670],\n",
       "       [ 517123,  577670,  626015],\n",
       "       [ 517123,  585884,  637725],\n",
       "       [ 538313,  601828,  643719],\n",
       "       [ 538313,  608810,  650923],\n",
       "       [ 538313,  609888,  665164],\n",
       "       [ 538313,  623533,  701992],\n",
       "       [ 546138,  639429,  704776],\n",
       "       [ 570606,  655261,  736030],\n",
       "       [ 570606,  689793,  828551],\n",
       "       [ 655694,  732806,  850989],\n",
       "       [ 655694,  761757,  866462],\n",
       "       [ 866462,  772282,  619651],\n",
       "       [ 866462,  754762,  513097],\n",
       "       [ 866462,  705825,  493678],\n",
       "       [ 866462,  661594,  493678],\n",
       "       [ 825381,  627673,  493678],\n",
       "       [ 493678,  625947,  758251],\n",
       "       [ 493678,  652778,  788597],\n",
       "       [ 545951,  681009,  788597],\n",
       "       [ 623626,  709553,  788597],\n",
       "       [ 629793,  731136,  797468],\n",
       "       [ 629793,  744496,  845566],\n",
       "       [ 629793,  764220,  873095],\n",
       "       [ 714348,  815252, 1000658],\n",
       "       [ 714348,  870006, 1048575]])"
      ]
     },
     "execution_count": 5,
     "metadata": {},
     "output_type": "execute_result"
    }
   ],
   "source": [
    "sax = meSAX(K=20, windows_size=100, step_size=20)\n",
    "sax.synthesize(df)"
   ]
  },
  {
   "cell_type": "code",
   "execution_count": 6,
   "metadata": {},
   "outputs": [
    {
     "name": "stdout",
     "output_type": "stream",
     "text": [
      "3032\n"
     ]
    },
    {
     "data": {
      "text/plain": [
       "20056"
      ]
     },
     "execution_count": 6,
     "metadata": {},
     "output_type": "execute_result"
    }
   ],
   "source": [
    "import sys\n",
    "print(sys.getsizeof(sax.symbol))\n",
    "sys.getsizeof(df.tolist())"
   ]
  },
  {
   "cell_type": "code",
   "execution_count": 7,
   "metadata": {},
   "outputs": [
    {
     "name": "stderr",
     "output_type": "stream",
     "text": [
      "121it [00:00, 45882.90it/s]\n"
     ]
    },
    {
     "data": {
      "text/plain": [
       "array([ 6.61328205,  6.91446183,  6.32845151, ..., 55.0748904 ,\n",
       "       55.90251277, 55.29554271])"
      ]
     },
     "execution_count": 7,
     "metadata": {},
     "output_type": "execute_result"
    }
   ],
   "source": [
    "from tqdm import tqdm\n",
    "\n",
    "reconstructed_data = np.zeros(df.shape)\n",
    "\n",
    "for i, triplet in tqdm(enumerate(sax.symbol)):\n",
    "    mean = sax.breakpoints[triplet[1]]\n",
    "    elem_0, elem_1 = sax.breakpoints[triplet[0]], sax.breakpoints[triplet[2]]\n",
    "    min_, max_ = min(elem_0, elem_1), max(elem_0, elem_1)\n",
    "    samples = np.random.normal(mean, 0.5, sax.step_size)\n",
    "    while np.any(samples < min_) or np.any(samples > max_):\n",
    "        wrong_args_min = np.where(samples < min_)[0]\n",
    "        wrong_args_max = np.where(samples > max_)[0]\n",
    "        wrong_args = np.concatenate((wrong_args_min, wrong_args_max))\n",
    "        samples[wrong_args] = np.random.normal(mean, 1, len(wrong_args))\n",
    "    \n",
    "    np.sort(samples)\n",
    "    if elem_0 > elem_1:\n",
    "        samples = samples[::-1]\n",
    "\n",
    "    reconstructed_data[i*sax.step_size:(i+1)*sax.step_size] = samples\n",
    "\n",
    "reconstructed_data = reconstructed_data[reconstructed_data != 0]\n",
    "reconstructed_data"
   ]
  },
  {
   "cell_type": "code",
   "execution_count": 8,
   "metadata": {},
   "outputs": [
    {
     "data": {
      "text/plain": [
       "[<matplotlib.lines.Line2D at 0x14d972ab0>]"
      ]
     },
     "execution_count": 8,
     "metadata": {},
     "output_type": "execute_result"
    },
    {
     "data": {
      "image/png": "[encoded data removed]",
      "text/plain": [
       "<Figure size 640x480 with 1 Axes>"
      ]
     },
     "metadata": {},
     "output_type": "display_data"
    }
   ],
   "source": [
    "plt.plot(reconstructed_data, color='red')\n",
    "plt.plot(df[:len(reconstructed_data)], color='blue')"
   ]
  }
 ],
 "metadata": {
  "kernelspec": {
   "display_name": "tutorial-mva-1",
   "language": "python",
   "name": "python3"
  },
  "language_info": {
   "codemirror_mode": {
    "name": "ipython",
    "version": 3
   },
   "file_extension": ".py",
   "mimetype": "text/x-python",
   "name": "python",
   "nbconvert_exporter": "python",
   "pygments_lexer": "ipython3",
   "version": "3.12.2"
  }
 },
 "nbformat": 4,
 "nbformat_minor": 2
}
