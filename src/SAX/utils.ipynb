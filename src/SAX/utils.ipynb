{
 "cells": [
  {
   "cell_type": "markdown",
   "metadata": {},
   "source": [
    "# Imports"
   ]
  },
  {
   "cell_type": "code",
   "execution_count": 79,
   "metadata": {},
   "outputs": [
    {
     "name": "stdout",
     "output_type": "stream",
     "text": [
      "The autoreload extension is already loaded. To reload it, use:\n",
      "  %reload_ext autoreload\n"
     ]
    }
   ],
   "source": [
    "import numpy as np\n",
    "import yfinance as yf\n",
    "import matplotlib.pyplot as plt\n",
    "import sys\n",
    "sys.path.append('../')\n",
    "\n",
    "\n",
    "from utils import *\n",
    "from mesax import meSAX\n",
    "from metrics import rmsre\n",
    "\n",
    "%load_ext autoreload\n",
    "%autoreload 2"
   ]
  },
  {
   "cell_type": "markdown",
   "metadata": {},
   "source": [
    "# Load data"
   ]
  },
  {
   "cell_type": "code",
   "execution_count": 80,
   "metadata": {},
   "outputs": [
    {
     "name": "stderr",
     "output_type": "stream",
     "text": [
      "[*********************100%***********************]  1 of 1 completed\n"
     ]
    },
    {
     "data": {
      "text/plain": [
       "array([ 6.44741011,  6.45855856,  6.35582685, ..., 63.43808746,\n",
       "       64.36878967, 65.61215973])"
      ]
     },
     "execution_count": 80,
     "metadata": {},
     "output_type": "execute_result"
    }
   ],
   "source": [
    "df = yf.download('AAPL', start='2010-01-01', end='2020-01-01')\n",
    "df = df['Close'][:2500].values.squeeze()\n",
    "df"
   ]
  },
  {
   "cell_type": "code",
   "execution_count": 81,
   "metadata": {},
   "outputs": [
    {
     "data": {
      "text/plain": [
       "(2500,)"
      ]
     },
     "execution_count": 81,
     "metadata": {},
     "output_type": "execute_result"
    }
   ],
   "source": [
    "df.shape"
   ]
  },
  {
   "cell_type": "markdown",
   "metadata": {},
   "source": [
    "# Sax method"
   ]
  },
  {
   "cell_type": "code",
   "execution_count": 86,
   "metadata": {},
   "outputs": [
    {
     "name": "stderr",
     "output_type": "stream",
     "text": [
      "500it [00:00, 35854.88it/s]\n"
     ]
    }
   ],
   "source": [
    "sax = meSAX(K=6, windows_size=50, step_size=5, reconstruction_method=\"slope\")\n",
    "sax.synthesize(df)\n",
    "reconstructed_data = sax.reconstruct()"
   ]
  },
  {
   "cell_type": "code",
   "execution_count": 90,
   "metadata": {},
   "outputs": [
    {
     "data": {
      "text/plain": [
       "2.218"
      ]
     },
     "execution_count": 90,
     "metadata": {},
     "output_type": "execute_result"
    }
   ],
   "source": [
    "sax.get_compression_ratio()"
   ]
  },
  {
   "cell_type": "code",
   "execution_count": 88,
   "metadata": {},
   "outputs": [
    {
     "data": {
      "text/plain": [
       "[<matplotlib.lines.Line2D at 0x13ce4ac60>]"
      ]
     },
     "execution_count": 88,
     "metadata": {},
     "output_type": "execute_result"
    },
    {
     "data": {
      "image/png": "[encoded data removed]",
      "text/plain": [
       "<Figure size 640x480 with 1 Axes>"
      ]
     },
     "metadata": {},
     "output_type": "display_data"
    }
   ],
   "source": [
    "plt.plot(reconstructed_data, color='red')\n",
    "plt.plot(df[:len(reconstructed_data)], color='blue')"
   ]
  },
  {
   "cell_type": "code",
   "execution_count": 92,
   "metadata": {},
   "outputs": [
    {
     "name": "stderr",
     "output_type": "stream",
     "text": [
      "500it [00:00, 33661.07it/s]\n",
      "500it [00:00, 66818.07it/s]\n",
      "500it [00:00, 45163.17it/s]\n",
      "500it [00:00, 53624.63it/s]\n",
      "500it [00:00, 19935.47it/s]\n",
      "500it [00:00, 27901.76it/s]\n",
      "500it [00:00, 58207.33it/s]\n",
      "500it [00:00, 31047.76it/s]\n",
      "500it [00:00, 56935.22it/s]\n",
      "500it [00:00, 16946.82it/s]\n",
      "500it [00:00, 57180.50it/s]\n",
      "500it [00:00, 12567.20it/s]\n",
      "500it [00:00, 62206.03it/s]\n",
      "500it [00:00, 11845.24it/s]\n",
      "500it [00:00, 60024.96it/s]\n",
      "500it [00:00, 11468.93it/s]\n",
      "500it [00:00, 63373.38it/s]\n",
      "500it [00:00, 11156.19it/s]\n",
      "500it [00:00, 61789.98it/s]\n",
      "500it [00:00, 12318.36it/s]\n",
      "500it [00:00, 61537.96it/s]\n",
      "500it [00:00, 11621.40it/s]\n",
      "500it [00:00, 63972.67it/s]\n",
      "500it [00:00, 11797.20it/s]\n"
     ]
    }
   ],
   "source": [
    "loss_slope = []\n",
    "loss_mesax = []\n",
    "\n",
    "for k in range(3, 15):\n",
    "    sax = meSAX(K=k, windows_size=50, step_size=5, reconstruction_method=\"slope\")\n",
    "    sax.synthesize(df)\n",
    "    reconstructed_data = sax.reconstruct()\n",
    "    loss_slope.append(rmsre(df, reconstructed_data))\n",
    "    \n",
    "    sax = meSAX(K=k, windows_size=50, step_size=5, reconstruction_method=\"normal\")\n",
    "    sax.synthesize(df)\n",
    "    reconstructed_data = sax.reconstruct()\n",
    "    loss_mesax.append(rmsre(df, reconstructed_data))"
   ]
  },
  {
   "cell_type": "code",
   "execution_count": null,
   "metadata": {},
   "outputs": [],
   "source": [
    "plt.plot(range(3, 15), loss_slope, label='slope')\n",
    "plt.plot(range(3, 15), loss_mesax, label='mesax')\n",
    "plt.legend()\n",
    "plt.show()"
   ]
  }
 ],
 "metadata": {
  "kernelspec": {
   "display_name": "tutorial-mva-1",
   "language": "python",
   "name": "python3"
  },
  "language_info": {
   "codemirror_mode": {
    "name": "ipython",
    "version": 3
   },
   "file_extension": ".py",
   "mimetype": "text/x-python",
   "name": "python",
   "nbconvert_exporter": "python",
   "pygments_lexer": "ipython3",
   "version": "3.12.2"
  }
 },
 "nbformat": 4,
 "nbformat_minor": 2
}
